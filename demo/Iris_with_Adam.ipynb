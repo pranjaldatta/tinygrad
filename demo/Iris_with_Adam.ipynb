{
 "cells": [
  {
   "cell_type": "code",
   "execution_count": 1,
   "metadata": {},
   "outputs": [
    {
     "name": "stdout",
     "output_type": "stream",
     "text": [
      "Hello World!\n"
     ]
    }
   ],
   "source": [
    "print(\"Hello World!\")"
   ]
  },
  {
   "cell_type": "code",
   "execution_count": 2,
   "metadata": {},
   "outputs": [],
   "source": [
    "from tinygrad.core import Tensor\n",
    "from tinygrad.nn import SimpleMLP\n",
    "from tinygrad.losses import MSELoss\n",
    "from tinygrad.optimizers import SimpleSGD, Adam\n",
    "\n",
    "import numpy as np\n",
    "import matplotlib.pyplot as plt\n",
    "import random\n",
    "import math"
   ]
  },
  {
   "cell_type": "code",
   "execution_count": 3,
   "metadata": {},
   "outputs": [],
   "source": [
    "path = \"IrisFlower/iris.data\"\n",
    "\n",
    "dataset = []\n",
    "with open(path) as fp:\n",
    "    file = fp.read().splitlines()\n",
    "file = [line.split(\",\") for line in file]\n",
    "file = file[:150]\n",
    "\n",
    "dataset = [[list(map(float, line[:4])), line[4]] for line in file]\n",
    "\n",
    "classes = ['Iris-setosa', 'Iris-versicolor', 'Iris-virginica']\n",
    "dataset = [[row[0], classes.index(row[1])] for row in dataset]"
   ]
  },
  {
   "cell_type": "code",
   "execution_count": 4,
   "metadata": {},
   "outputs": [],
   "source": [
    "train_ids = [random.sample(range(i,i+50), k=40) for i in [0, 50, 100]]\n",
    "train_ids = [item for sublist in train_ids for item in sublist]\n",
    "\n",
    "val_ids = [i for i in range(150) if i not in train_ids]\n",
    "\n",
    "trainset = [dataset[i] for i in train_ids]\n",
    "valset = [dataset[i] for i in val_ids]"
   ]
  },
  {
   "cell_type": "code",
   "execution_count": 5,
   "metadata": {},
   "outputs": [
    {
     "name": "stdout",
     "output_type": "stream",
     "text": [
      "Trainset size:  120\n",
      "Valset size:  30\n"
     ]
    }
   ],
   "source": [
    "print(\"Trainset size: \", len(trainset))\n",
    "print(\"Valset size: \", len(valset))"
   ]
  },
  {
   "cell_type": "code",
   "execution_count": 6,
   "metadata": {},
   "outputs": [
    {
     "name": "stdout",
     "output_type": "stream",
     "text": [
      "SimpleMLP(\n",
      "Linear(ins:4 outs:8 num_parameters:40)\n",
      "Linear(ins:8 outs:8 num_parameters:72)\n",
      "Linear(ins:8 outs:1 num_parameters:9)\n",
      ")\n",
      "Number of parameters: 121\n"
     ]
    }
   ],
   "source": [
    "# now we define the model \n",
    "# we are going to define a 4, 8, 8, 1 model \n",
    "model = SimpleMLP(4, 1, [8, 8])\n",
    "\n",
    "# temporary fix to make last layer nonlin=False\n",
    "for i, layer in enumerate(model.layers):\n",
    "    if i == len(model.layers) - 1:\n",
    "        for n in layer.neurons:\n",
    "            n.nonlin = False\n",
    "\n",
    "# print the model summary\n",
    "model.summary()\n",
    "\n",
    "#total parameters\n",
    "print(\"Number of parameters:\", len(model.parameters()))"
   ]
  },
  {
   "cell_type": "code",
   "execution_count": 7,
   "metadata": {},
   "outputs": [
    {
     "name": "stdout",
     "output_type": "stream",
     "text": [
      "For epoch: 0, loss: 0.1380820547557895\n",
      "For epoch: 5, loss: 0.17723789989906655\n",
      "For epoch: 10, loss: 0.18795161944143365\n",
      "For epoch: 15, loss: 0.18789678893992356\n",
      "For epoch: 20, loss: 0.18497993290296091\n",
      "For epoch: 25, loss: 0.18227045496367802\n",
      "For epoch: 30, loss: 0.1778377744288609\n",
      "For epoch: 35, loss: 0.17243988354734371\n",
      "For epoch: 40, loss: 0.16796825729297604\n",
      "For epoch: 45, loss: 0.16357567396140493\n",
      "For epoch: 50, loss: 0.15851889111339237\n",
      "For epoch: 55, loss: 0.15432244925866798\n",
      "For epoch: 60, loss: 0.1501863202607278\n",
      "For epoch: 65, loss: 0.14515222222186436\n",
      "For epoch: 70, loss: 0.13984042917858006\n",
      "For epoch: 75, loss: 0.13307858671717906\n",
      "For epoch: 80, loss: 0.12372031055084633\n",
      "For epoch: 85, loss: 0.11770810691123336\n",
      "For epoch: 90, loss: 0.11222300999323132\n",
      "For epoch: 95, loss: 0.10728956054779047\n",
      "For epoch: 100, loss: 0.09710522013169669\n",
      "For epoch: 105, loss: 0.0918452772178255\n",
      "For epoch: 110, loss: 0.08630805178202909\n",
      "For epoch: 115, loss: 0.08389386256954563\n",
      "For epoch: 120, loss: 0.08018059090269901\n",
      "For epoch: 125, loss: 0.07018617911923074\n",
      "For epoch: 130, loss: 0.06953078335115587\n",
      "For epoch: 135, loss: 0.06867237250279544\n",
      "For epoch: 140, loss: 0.06724451699996738\n",
      "For epoch: 145, loss: 0.06574064958079714\n",
      "For epoch: 150, loss: 0.06514752269894415\n",
      "For epoch: 155, loss: 0.06368511140538537\n",
      "For epoch: 160, loss: 0.06282734459977453\n",
      "For epoch: 165, loss: 0.062243732981419185\n",
      "For epoch: 170, loss: 0.06175024222800394\n",
      "For epoch: 175, loss: 0.06128979916871477\n",
      "For epoch: 180, loss: 0.060176787719672595\n",
      "For epoch: 185, loss: 0.059521050495953624\n",
      "For epoch: 190, loss: 0.058514694182999025\n",
      "For epoch: 195, loss: 0.05775131631628107\n",
      "For epoch: 200, loss: 0.057200424659693744\n",
      "For epoch: 205, loss: 0.05678343758591915\n",
      "For epoch: 210, loss: 0.05638238030465462\n",
      "For epoch: 215, loss: 0.05598033382468764\n",
      "For epoch: 220, loss: 0.05560142892976053\n",
      "For epoch: 225, loss: 0.05521076840992101\n",
      "For epoch: 230, loss: 0.05480088764494681\n",
      "For epoch: 235, loss: 0.054424461546636285\n",
      "For epoch: 240, loss: 0.054044918048255335\n",
      "For epoch: 245, loss: 0.05340086131413217\n",
      "For epoch: 250, loss: 0.05294756987059896\n",
      "For epoch: 255, loss: 0.05259074371775349\n",
      "For epoch: 260, loss: 0.05170432309602285\n",
      "For epoch: 265, loss: 0.050899454383807\n",
      "For epoch: 270, loss: 0.050817716627480455\n",
      "For epoch: 275, loss: 0.04991793975678183\n",
      "For epoch: 280, loss: 0.04986262346816946\n",
      "For epoch: 285, loss: 0.04927688933130548\n",
      "For epoch: 290, loss: 0.04881331399476729\n",
      "For epoch: 295, loss: 0.04794287865208474\n",
      "For epoch: 300, loss: 0.04783206766802399\n",
      "For epoch: 305, loss: 0.04709525883082814\n",
      "For epoch: 310, loss: 0.0470200508511707\n",
      "For epoch: 315, loss: 0.046467840819361096\n",
      "For epoch: 320, loss: 0.046043695569253175\n",
      "For epoch: 325, loss: 0.04565912609756381\n",
      "For epoch: 330, loss: 0.044867902883997446\n",
      "For epoch: 335, loss: 0.04462169544439785\n",
      "For epoch: 340, loss: 0.04449446169346011\n",
      "For epoch: 345, loss: 0.04428450759115915\n",
      "For epoch: 350, loss: 0.043900762173349435\n",
      "For epoch: 355, loss: 0.043539335995392364\n",
      "For epoch: 360, loss: 0.043305596536248187\n",
      "For epoch: 365, loss: 0.04281381367924724\n",
      "For epoch: 370, loss: 0.0424780595586513\n",
      "For epoch: 375, loss: 0.04242950910596125\n",
      "For epoch: 380, loss: 0.041968520137083715\n",
      "For epoch: 385, loss: 0.041566476914123594\n",
      "For epoch: 390, loss: 0.04095826836020829\n",
      "For epoch: 395, loss: 0.04103818595466384\n",
      "For epoch: 400, loss: 0.040456366801216406\n",
      "For epoch: 405, loss: 0.040600455321092487\n",
      "For epoch: 410, loss: 0.039946879855481544\n",
      "For epoch: 415, loss: 0.040126392392808324\n",
      "For epoch: 420, loss: 0.03948078839011986\n",
      "For epoch: 425, loss: 0.03966615860459146\n",
      "For epoch: 430, loss: 0.039028286413159675\n",
      "For epoch: 435, loss: 0.039161756819378606\n",
      "For epoch: 440, loss: 0.03899179620508173\n",
      "For epoch: 445, loss: 0.0383813187866193\n",
      "For epoch: 450, loss: 0.038572617291078734\n",
      "For epoch: 455, loss: 0.038356713047361636\n",
      "For epoch: 460, loss: 0.0380939352566594\n",
      "For epoch: 465, loss: 0.03795339798339189\n",
      "For epoch: 470, loss: 0.037748996694040145\n",
      "For epoch: 475, loss: 0.03749237967183458\n",
      "For epoch: 480, loss: 0.037360885618928474\n",
      "For epoch: 485, loss: 0.03718566371810791\n",
      "For epoch: 490, loss: 0.03658194398855786\n",
      "For epoch: 495, loss: 0.036733123954949674\n"
     ]
    }
   ],
   "source": [
    "epochs = 500\n",
    "lr = 0.001\n",
    "\n",
    "optimizer = Adam(model.parameters(), lr=lr)\n",
    "loss_fn = MSELoss\n",
    "\n",
    "X = [list(map(Tensor, x[0])) for x in trainset]\n",
    "Y = [Tensor(x[1]) for x in trainset]\n",
    "\n",
    "losslist = [] #to store losses\n",
    "\n",
    "for i in range(epochs):\n",
    "    \n",
    "    for xi, yi in zip(X, Y):\n",
    "        \n",
    "        # we pass a single data-point once i.e. the single-batch approach.\n",
    "        # As expected, convergence is much faster and better\n",
    "        preds = model(xi) \n",
    "\n",
    "        loss = loss_fn(preds, yi)\n",
    "    \n",
    "        model.zero_grad()\n",
    "        loss.backward()\n",
    "    \n",
    "        optimizer.step()\n",
    "    \n",
    "    if i%5 == 0:\n",
    "        print(\"For epoch: {}, loss: {}\".format(i, loss.data))\n",
    "        losslist.append(loss.data)"
   ]
  },
  {
   "cell_type": "code",
   "execution_count": 17,
   "metadata": {},
   "outputs": [
    {
     "data": {
      "text/plain": [
       "[<matplotlib.lines.Line2D at 0x7f6946ea8908>]"
      ]
     },
     "execution_count": 17,
     "metadata": {},
     "output_type": "execute_result"
    },
    {
     "data": {
      "image/png": "[encoded data removed]",
      "text/plain": [
       "<Figure size 432x288 with 1 Axes>"
      ]
     },
     "metadata": {
      "needs_background": "light"
     },
     "output_type": "display_data"
    }
   ],
   "source": [
    "plt.plot(range(len(losslist)), losslist)"
   ]
  },
  {
   "cell_type": "code",
   "execution_count": 9,
   "metadata": {},
   "outputs": [],
   "source": [
    "X_val = [list(map(Tensor, x[0])) for x in valset]\n",
    "Y_val = [Tensor(x[1]) for x in valset]\n",
    "\n",
    "preds = list(map(model, X_val))"
   ]
  },
  {
   "cell_type": "code",
   "execution_count": 10,
   "metadata": {},
   "outputs": [
    {
     "name": "stdout",
     "output_type": "stream",
     "text": [
      "val loss:  0.03908728747859953\n"
     ]
    }
   ],
   "source": [
    "val_loss = loss_fn(preds, Y_val)\n",
    "print(\"val loss: \", val_loss.data)"
   ]
  },
  {
   "cell_type": "code",
   "execution_count": 16,
   "metadata": {},
   "outputs": [
    {
     "name": "stdout",
     "output_type": "stream",
     "text": [
      "idx: 0, predicted: 0, true value: 0\n",
      "idx: 2, predicted: 0, true value: 0\n",
      "idx: 4, predicted: 0, true value: 0\n",
      "idx: 6, predicted: 0, true value: 0\n",
      "idx: 8, predicted: 0, true value: 0\n",
      "idx: 10, predicted: 1, true value: 1\n",
      "idx: 12, predicted: 1, true value: 1\n",
      "idx: 14, predicted: 2, true value: 1\n",
      "idx: 16, predicted: 1, true value: 1\n",
      "idx: 18, predicted: 1, true value: 1\n",
      "idx: 20, predicted: 2, true value: 2\n",
      "idx: 22, predicted: 2, true value: 2\n",
      "idx: 24, predicted: 2, true value: 2\n",
      "idx: 26, predicted: 2, true value: 2\n",
      "idx: 28, predicted: 2, true value: 2\n",
      "Accurate Preds: 28, Total data-points: 30, Validation accuracy: 93.33333333333333\n"
     ]
    }
   ],
   "source": [
    "accuracy = 0\n",
    "idx = 0\n",
    "for pi, yi in zip(preds, Y_val):\n",
    "    if idx % 2 == 0:\n",
    "        print(\"idx: {}, predicted: {}, true value: {}\".format(idx, round((pi.data)), yi.data))\n",
    "    if round(pi.data) == yi.data:\n",
    "        accuracy += 1\n",
    "    idx += 1\n",
    "print(\"Accurate Preds: {}, Total data-points: {}, Validation accuracy: {}\".format(accuracy, len(Y_val), (accuracy/len(Y_val)) * 100))"
   ]
  },
  {
   "cell_type": "code",
   "execution_count": 12,
   "metadata": {},
   "outputs": [],
   "source": [
    "# now we save the model \n",
    "model.save(\"saved_models/model_adam_93.pkl\")"
   ]
  },
  {
   "cell_type": "code",
   "execution_count": 18,
   "metadata": {},
   "outputs": [
    {
     "name": "stdout",
     "output_type": "stream",
     "text": [
      "idx: 0, predicted: 0, true value: 0\n",
      "idx: 2, predicted: 0, true value: 0\n",
      "idx: 4, predicted: 0, true value: 0\n",
      "idx: 6, predicted: 0, true value: 0\n",
      "idx: 8, predicted: 0, true value: 0\n",
      "idx: 10, predicted: 1, true value: 1\n",
      "idx: 12, predicted: 1, true value: 1\n",
      "idx: 14, predicted: 2, true value: 1\n",
      "idx: 16, predicted: 1, true value: 1\n",
      "idx: 18, predicted: 1, true value: 1\n",
      "idx: 20, predicted: 2, true value: 2\n",
      "idx: 22, predicted: 2, true value: 2\n",
      "idx: 24, predicted: 2, true value: 2\n",
      "idx: 26, predicted: 2, true value: 2\n",
      "idx: 28, predicted: 2, true value: 2\n",
      "Accurate Preds: 28, Total data-points: 30, Validation accuracy: 93.33333333333333\n"
     ]
    }
   ],
   "source": [
    "# now we load the saved model and check validation accuracy\n",
    "\n",
    "val_model = SimpleMLP(4, 1, [8, 8])\n",
    "val_model.load_pkl(\"saved_models/model_adam_93.pkl\")\n",
    "\n",
    "preds = list(map(model, X_val))\n",
    "\n",
    "accuracy = 0\n",
    "idx = 0\n",
    "for pi, yi in zip(preds, Y_val):\n",
    "    if idx % 2 == 0:\n",
    "        print(\"idx: {}, predicted: {}, true value: {}\".format(idx, round((pi.data)), yi.data))\n",
    "    if round(pi.data) == yi.data:\n",
    "        accuracy += 1\n",
    "    idx += 1\n",
    "print(\"Accurate Preds: {}, Total data-points: {}, Validation accuracy: {}\".format(accuracy, len(Y_val), (accuracy/len(Y_val)) * 100))\n"
   ]
  },
  {
   "cell_type": "code",
   "execution_count": null,
   "metadata": {},
   "outputs": [],
   "source": []
  }
 ],
 "metadata": {
  "kernelspec": {
   "display_name": "Python 3.7.1 64-bit ('tinygrad': conda)",
   "language": "python",
   "name": "python37164bittinygradconda67a60def8dcb4c8aa34048bd4870bafd"
  },
  "language_info": {
   "codemirror_mode": {
    "name": "ipython",
    "version": 3
   },
   "file_extension": ".py",
   "mimetype": "text/x-python",
   "name": "python",
   "nbconvert_exporter": "python",
   "pygments_lexer": "ipython3",
   "version": "3.7.1"
  }
 },
 "nbformat": 4,
 "nbformat_minor": 4
}
