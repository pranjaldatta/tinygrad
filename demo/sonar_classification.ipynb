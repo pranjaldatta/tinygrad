{
 "cells": [
  {
   "cell_type": "code",
   "execution_count": 135,
   "metadata": {},
   "outputs": [
    {
     "name": "stdout",
     "output_type": "stream",
     "text": [
      "Hello World!\n"
     ]
    }
   ],
   "source": [
    "print(\"Hello World!\")"
   ]
  },
  {
   "cell_type": "code",
   "execution_count": 156,
   "metadata": {},
   "outputs": [],
   "source": [
    "from tinygrad.core import Tensor\n",
    "import tinygrad.nn as nn\n",
    "import tinygrad.optimizers as optim\n",
    "from tinygrad.losses import *\n",
    "\n",
    "import matplotlib.pyplot as plt\n",
    "import numpy as np\n",
    "import csv\n",
    "import math\n",
    "import time\n",
    "import tqdm\n",
    "import random"
   ]
  },
  {
   "cell_type": "code",
   "execution_count": 137,
   "metadata": {},
   "outputs": [],
   "source": [
    "path = \"sonar.all-data\""
   ]
  },
  {
   "cell_type": "code",
   "execution_count": 138,
   "metadata": {},
   "outputs": [
    {
     "name": "stdout",
     "output_type": "stream",
     "text": [
      "Total length of dataset:  208\n"
     ]
    }
   ],
   "source": [
    "dataset = []\n",
    "with open(path, \"rt\") as fp:\n",
    "    data = csv.reader(fp, delimiter=\",\")\n",
    "    for row in data:\n",
    "        dataset.append(row)\n",
    "\n",
    "string2float = lambda x: list(map(float, x))\n",
    "\n",
    "classes = [\"R\", \"M\"]\n",
    "\n",
    "dataset = [[string2float(x[:59]), classes.index(x[60])] for x in dataset]\n",
    "\n",
    "print(\"Total length of dataset: \", len(dataset))"
   ]
  },
  {
   "cell_type": "code",
   "execution_count": 139,
   "metadata": {},
   "outputs": [],
   "source": [
    "tensorify = lambda x: list(map(Tensor, x))\n",
    "\n",
    "def check_class_balance(dataset):\n",
    "\n",
    "    count = [0, 0]\n",
    "    for x in dataset:\n",
    "        count[x[1]] += 1\n",
    "    print(\"R:{} M:{}\".format(count[0], count[1]))\n",
    "    plt.bar([\"R\", \"M\"], count)\n",
    "    plt.show()"
   ]
  },
  {
   "cell_type": "code",
   "execution_count": 140,
   "metadata": {},
   "outputs": [
    {
     "name": "stdout",
     "output_type": "stream",
     "text": [
      "R:97 M:111\n"
     ]
    },
    {
     "data": {
      "image/png": "[encoded data removed]",
      "text/plain": [
       "<Figure size 432x288 with 1 Axes>"
      ]
     },
     "metadata": {
      "needs_background": "light"
     },
     "output_type": "display_data"
    }
   ],
   "source": [
    "check_class_balance(dataset)"
   ]
  },
  {
   "cell_type": "code",
   "execution_count": 141,
   "metadata": {},
   "outputs": [
    {
     "name": "stdout",
     "output_type": "stream",
     "text": [
      "Len of trainset:  187\n",
      "Len of testset:  21\n"
     ]
    }
   ],
   "source": [
    "rock_percent = 0.46\n",
    "train_percent = .90\n",
    "\n",
    "train_rock_num = round(train_percent * 97)\n",
    "train_mine_num = round(train_percent * 111)\n",
    "rock_last_idx = round(rock_percent * len(dataset))\n",
    "\n",
    "train_ids = [random.sample(range(x, y), k=z) for (x, y), z in zip([(0, rock_last_idx+1), (rock_last_idx+1, 208)],\\\n",
    "                                                               [train_rock_num, train_mine_num])]\n",
    "train_ids = [item for sublist in train_ids for item in sublist]\n",
    "\n",
    "trainset = [dataset[x] for x in train_ids]\n",
    "testset = [x for x in dataset if x not in trainset]\n",
    "\n",
    "random.shuffle(trainset)\n",
    "random.shuffle(testset)\n",
    "\n",
    "print(\"Len of trainset: \", len(trainset))\n",
    "print(\"Len of testset: \", len(testset))"
   ]
  },
  {
   "cell_type": "code",
   "execution_count": 142,
   "metadata": {},
   "outputs": [
    {
     "name": "stdout",
     "output_type": "stream",
     "text": [
      "R:87 M:100\n"
     ]
    },
    {
     "data": {
      "image/png": "[encoded data removed]",
      "text/plain": [
       "<Figure size 432x288 with 1 Axes>"
      ]
     },
     "metadata": {
      "needs_background": "light"
     },
     "output_type": "display_data"
    },
    {
     "name": "stdout",
     "output_type": "stream",
     "text": [
      "R:10 M:11\n"
     ]
    },
    {
     "data": {
      "image/png": "[encoded data removed]",
      "text/plain": [
       "<Figure size 432x288 with 1 Axes>"
      ]
     },
     "metadata": {
      "needs_background": "light"
     },
     "output_type": "display_data"
    }
   ],
   "source": [
    "check_class_balance(trainset)\n",
    "check_class_balance(testset)"
   ]
  },
  {
   "cell_type": "code",
   "execution_count": 143,
   "metadata": {},
   "outputs": [],
   "source": [
    "trainset = [[tensorify(x[0]), Tensor(x[1])] for x in trainset]\n",
    "testset = [[tensorify(x[0]), Tensor(x[1])] for x in testset]"
   ]
  },
  {
   "cell_type": "code",
   "execution_count": 201,
   "metadata": {},
   "outputs": [
    {
     "name": "stdout",
     "output_type": "stream",
     "text": [
      "SimpleMLP(\n",
      "Linear(ins:60 outs:12 num_parameters:732)\n",
      "Linear(ins:12 outs:1 num_parameters:13)\n",
      ")\n",
      "Number of parameters:  745\n"
     ]
    }
   ],
   "source": [
    "# we dont define any dataloader because the dataset is anyway small ;)\n",
    "# we define our model here\n",
    "\n",
    "model = nn.SimpleMLP(60, 1, [12])\n",
    "\n",
    "# temporary fix to make last layer nonlin=False\n",
    "for i, layer in enumerate(model.layers):\n",
    "    if i == len(model.layers) - 1:\n",
    "        for n in layer.neurons:\n",
    "            n.nonlin = False\n",
    "\n",
    "model.summary()\n",
    "print(\"Number of parameters: \", len(model.parameters()))"
   ]
  },
  {
   "cell_type": "code",
   "execution_count": 202,
   "metadata": {},
   "outputs": [],
   "source": [
    "# here we define the other parameters, optimizers and loss functions\n",
    "lr = 0.001\n",
    "optimizer = optim.Adam(model.parameters(), lr=lr)\n",
    "loss_fn = SmoothL1Loss\n",
    "\n",
    "epochs = 100"
   ]
  },
  {
   "cell_type": "code",
   "execution_count": 203,
   "metadata": {},
   "outputs": [
    {
     "name": "stdout",
     "output_type": "stream",
     "text": [
      "Epoch #0, Loss: 0.3661788782000029, time taken:3.6920783519744873\n",
      "Epoch #1, Loss: 0.22026149908575782, time taken:3.6208980083465576\n",
      "Epoch #2, Loss: 0.17753435597052708, time taken:4.312457084655762\n",
      "Epoch #3, Loss: 0.1531621402789071, time taken:5.387780427932739\n",
      "Epoch #4, Loss: 0.13794527591740607, time taken:5.029521942138672\n",
      "Epoch #5, Loss: 0.12709482324628613, time taken:5.93364953994751\n",
      "Epoch #6, Loss: 0.11901734191474642, time taken:5.05040979385376\n",
      "Epoch #7, Loss: 0.1126475707557349, time taken:6.631456613540649\n",
      "Epoch #8, Loss: 0.1075377024662288, time taken:8.083942413330078\n",
      "Epoch #9, Loss: 0.10281310594235207, time taken:7.755906105041504\n",
      "Epoch #10, Loss: 0.09875506901451099, time taken:4.706064939498901\n",
      "Epoch #11, Loss: 0.09562347418491367, time taken:3.5751595497131348\n",
      "Epoch #12, Loss: 0.09239443060066634, time taken:3.542025566101074\n",
      "Epoch #13, Loss: 0.08900049911862533, time taken:3.5290725231170654\n",
      "Epoch #14, Loss: 0.08629461459410473, time taken:3.5444629192352295\n",
      "Epoch #15, Loss: 0.08395658087306805, time taken:3.445309638977051\n",
      "Epoch #16, Loss: 0.08156987472253026, time taken:3.578325033187866\n",
      "Epoch #17, Loss: 0.07962553208037018, time taken:3.574289083480835\n",
      "Epoch #18, Loss: 0.07780231049702767, time taken:3.566584587097168\n",
      "Epoch #19, Loss: 0.07598811552980857, time taken:3.5685501098632812\n",
      "Epoch #20, Loss: 0.07450221521318331, time taken:3.6942427158355713\n",
      "Epoch #21, Loss: 0.07320997621055927, time taken:3.6400389671325684\n",
      "Epoch #22, Loss: 0.07201885991430851, time taken:3.594268798828125\n",
      "Epoch #23, Loss: 0.07106173420442301, time taken:3.7354447841644287\n",
      "Epoch #24, Loss: 0.06991696494306915, time taken:3.551527500152588\n",
      "Epoch #25, Loss: 0.06880538580695837, time taken:3.5624806880950928\n",
      "Epoch #26, Loss: 0.06789255537071365, time taken:5.062113523483276\n",
      "Epoch #27, Loss: 0.06744876466958614, time taken:5.323490858078003\n",
      "Epoch #28, Loss: 0.06662467735137596, time taken:5.315133094787598\n",
      "Epoch #29, Loss: 0.06582351721475486, time taken:8.112768650054932\n",
      "Epoch #30, Loss: 0.06488201168423965, time taken:9.447057962417603\n",
      "Epoch #31, Loss: 0.0644847398461656, time taken:4.412688970565796\n",
      "Epoch #32, Loss: 0.06382123281514147, time taken:5.418644666671753\n",
      "Epoch #33, Loss: 0.0630781434288864, time taken:4.6955132484436035\n",
      "Epoch #34, Loss: 0.06271085586479795, time taken:3.9968907833099365\n",
      "Epoch #35, Loss: 0.061917619028094464, time taken:4.468515396118164\n",
      "Epoch #36, Loss: 0.061287182659760055, time taken:3.7502927780151367\n",
      "Epoch #37, Loss: 0.060911974874861594, time taken:3.898691177368164\n",
      "Epoch #38, Loss: 0.060344348201475495, time taken:4.01718544960022\n",
      "Epoch #39, Loss: 0.05977776109280566, time taken:4.046534776687622\n",
      "Epoch #40, Loss: 0.05922858595914154, time taken:9.139788389205933\n",
      "Epoch #41, Loss: 0.058625506132704244, time taken:6.5477399826049805\n",
      "Epoch #42, Loss: 0.05816133418712327, time taken:6.854818344116211\n",
      "Epoch #43, Loss: 0.057551135507581265, time taken:8.569205284118652\n",
      "Epoch #44, Loss: 0.05688852826738042, time taken:4.992039203643799\n",
      "Epoch #45, Loss: 0.05635635286079167, time taken:5.010956287384033\n",
      "Epoch #46, Loss: 0.055831024934361, time taken:3.7394559383392334\n",
      "Epoch #47, Loss: 0.05523474372814731, time taken:3.5650269985198975\n",
      "Epoch #48, Loss: 0.054807183212519595, time taken:3.547041177749634\n",
      "Epoch #49, Loss: 0.0546082704994361, time taken:3.5255401134490967\n",
      "Epoch #50, Loss: 0.053770891899321924, time taken:3.533870220184326\n",
      "Epoch #51, Loss: 0.05326583113007042, time taken:3.4203360080718994\n",
      "Epoch #52, Loss: 0.052723115468334324, time taken:3.536799669265747\n",
      "Epoch #53, Loss: 0.05225139462804445, time taken:3.615959644317627\n",
      "Epoch #54, Loss: 0.05169498593386101, time taken:3.5198559761047363\n",
      "Epoch #55, Loss: 0.051203091987817834, time taken:3.50958251953125\n",
      "Epoch #56, Loss: 0.05079688980788697, time taken:3.5373036861419678\n",
      "Epoch #57, Loss: 0.050627596159969174, time taken:3.512576103210449\n",
      "Epoch #58, Loss: 0.050143699314960016, time taken:3.413024663925171\n",
      "Epoch #59, Loss: 0.0497629822277986, time taken:3.5299019813537598\n",
      "Epoch #60, Loss: 0.04954322854990354, time taken:3.538728952407837\n",
      "Epoch #61, Loss: 0.049328062567159624, time taken:3.860352039337158\n",
      "Epoch #62, Loss: 0.048895274198179364, time taken:3.527097225189209\n",
      "Epoch #63, Loss: 0.048560662198008815, time taken:3.550900936126709\n",
      "Epoch #64, Loss: 0.04800249212204738, time taken:3.6761434078216553\n",
      "Epoch #65, Loss: 0.047736765687534606, time taken:3.5692546367645264\n",
      "Epoch #66, Loss: 0.047470182860782265, time taken:3.6244564056396484\n",
      "Epoch #67, Loss: 0.04715922478824091, time taken:5.030649423599243\n",
      "Epoch #68, Loss: 0.046800020785111814, time taken:4.7327799797058105\n",
      "Epoch #69, Loss: 0.04618941777267181, time taken:5.115797758102417\n",
      "Epoch #70, Loss: 0.04606513260722944, time taken:4.7551679611206055\n",
      "Epoch #71, Loss: 0.04552433411430827, time taken:5.852081298828125\n",
      "Epoch #72, Loss: 0.04513028397926155, time taken:3.5752694606781006\n",
      "Epoch #73, Loss: 0.045007846638216276, time taken:3.6675405502319336\n",
      "Epoch #74, Loss: 0.04476316252715837, time taken:3.8207173347473145\n",
      "Epoch #75, Loss: 0.04439163848954071, time taken:3.931570529937744\n",
      "Epoch #76, Loss: 0.04394743661791268, time taken:7.105968236923218\n",
      "Epoch #77, Loss: 0.043757967997484576, time taken:10.088576793670654\n",
      "Epoch #78, Loss: 0.04344684073555358, time taken:4.984914302825928\n",
      "Epoch #79, Loss: 0.04313360425111273, time taken:4.590224742889404\n",
      "Epoch #80, Loss: 0.04278884037469284, time taken:5.203952312469482\n",
      "Epoch #81, Loss: 0.04267545507869206, time taken:8.550951480865479\n",
      "Epoch #82, Loss: 0.04228685336962541, time taken:5.539563417434692\n",
      "Epoch #83, Loss: 0.04209928971438378, time taken:4.074253797531128\n",
      "Epoch #84, Loss: 0.041625863817459655, time taken:4.281139850616455\n",
      "Epoch #85, Loss: 0.04149712530914419, time taken:3.618225574493408\n",
      "Epoch #86, Loss: 0.04100850963008717, time taken:3.6139373779296875\n",
      "Epoch #87, Loss: 0.04086178397186399, time taken:3.6273889541625977\n",
      "Epoch #88, Loss: 0.04046610987450452, time taken:3.9329638481140137\n",
      "Epoch #89, Loss: 0.04036329574559648, time taken:7.166426181793213\n",
      "Epoch #90, Loss: 0.04007984682408979, time taken:4.866276979446411\n",
      "Epoch #91, Loss: 0.03984861876339319, time taken:5.095895051956177\n",
      "Epoch #92, Loss: 0.039566732920830607, time taken:5.124824285507202\n",
      "Epoch #93, Loss: 0.039259498840184266, time taken:5.136842966079712\n",
      "Epoch #94, Loss: 0.03904242553797883, time taken:5.239959716796875\n",
      "Epoch #95, Loss: 0.03882450223904254, time taken:6.488379240036011\n",
      "Epoch #96, Loss: 0.038631811112663554, time taken:5.909767389297485\n",
      "Epoch #97, Loss: 0.038379503389264824, time taken:5.306346893310547\n",
      "Epoch #98, Loss: 0.03816068471175238, time taken:5.163797855377197\n",
      "Epoch #99, Loss: 0.03790817843252693, time taken:5.34266996383667\n",
      "Total time taken:  472.38758611679077\n"
     ]
    }
   ],
   "source": [
    "# finally our training loop! \n",
    "losslist = []\n",
    "\n",
    "start_time = time.time()\n",
    "for epoch in range(epochs):\n",
    "    \n",
    "    running_loss = 0\n",
    "    epoch_start = time.time()\n",
    "    for data in  trainset:\n",
    "        \n",
    "        xi, yi = data[0], data[1]\n",
    "        \n",
    "        preds = model(xi)\n",
    "        \n",
    "        loss = loss_fn(preds, yi)\n",
    "        \n",
    "        model.zero_grad()\n",
    "        loss.backward()\n",
    "        optimizer.step()\n",
    "        \n",
    "        running_loss += loss.data\n",
    "    \n",
    "    epoch_end = time.time()\n",
    "    running_loss /= len(trainset)\n",
    "    losslist.append(running_loss)\n",
    "    \n",
    "    if epoch%1 == 0:\n",
    "        print(\"Epoch #{}, Loss: {}, time taken:{}\".format(epoch, running_loss, epoch_end-epoch_start))\n",
    "\n",
    "print(\"Total time taken: \", time.time()-start_time)\n",
    "    \n"
   ]
  },
  {
   "cell_type": "code",
   "execution_count": 204,
   "metadata": {},
   "outputs": [
    {
     "data": {
      "text/plain": [
       "[<matplotlib.lines.Line2D at 0x7f67b9d28400>]"
      ]
     },
     "execution_count": 204,
     "metadata": {},
     "output_type": "execute_result"
    },
    {
     "data": {
      "image/png": "[encoded data removed]",
      "text/plain": [
       "<Figure size 432x288 with 1 Axes>"
      ]
     },
     "metadata": {
      "needs_background": "light"
     },
     "output_type": "display_data"
    }
   ],
   "source": [
    "plt.plot(range(len(losslist)), losslist)"
   ]
  },
  {
   "cell_type": "code",
   "execution_count": 206,
   "metadata": {},
   "outputs": [
    {
     "name": "stdout",
     "output_type": "stream",
     "text": [
      "y: 1, y_pred: 1\n",
      "y: 1, y_pred: 1\n",
      "y: 1, y_pred: 1\n",
      "y: 1, y_pred: 1\n",
      "y: 1, y_pred: 1\n",
      "y: 0, y_pred: 0\n",
      "y: 0, y_pred: 1\n",
      "y: 1, y_pred: 1\n",
      "y: 1, y_pred: 1\n",
      "y: 0, y_pred: 0\n",
      "y: 1, y_pred: 1\n",
      "y: 0, y_pred: 0\n",
      "y: 0, y_pred: 0\n",
      "y: 0, y_pred: 0\n",
      "y: 1, y_pred: 1\n",
      "y: 0, y_pred: 1\n",
      "y: 0, y_pred: 0\n",
      "y: 1, y_pred: 1\n",
      "y: 0, y_pred: 1\n",
      "y: 1, y_pred: 1\n",
      "y: 0, y_pred: 1\n",
      "Accuracy:  0.8095238095238095\n"
     ]
    }
   ],
   "source": [
    "accuracy = 0\n",
    "for idx, x in enumerate(testset):\n",
    "    xi = x[0]\n",
    "    yi = x[1]\n",
    "    \n",
    "    y_pred = model(xi)\n",
    "    \n",
    "    if yi.data  == round(y_pred.data):\n",
    "        accuracy += 1\n",
    "    if idx %  1== 0:\n",
    "        print(\"y: {}, y_pred: {}\".format(yi.data, round(y_pred.data)))\n",
    "print(\"Accuracy: \", accuracy/len(testset))"
   ]
  },
  {
   "cell_type": "code",
   "execution_count": 208,
   "metadata": {},
   "outputs": [],
   "source": [
    "model.save(\"saved_models/sonar.pkl\")"
   ]
  },
  {
   "cell_type": "code",
   "execution_count": 209,
   "metadata": {},
   "outputs": [
    {
     "name": "stdout",
     "output_type": "stream",
     "text": [
      "y: 1, y_pred: 1\n",
      "y: 1, y_pred: 1\n",
      "y: 1, y_pred: 1\n",
      "y: 1, y_pred: 1\n",
      "y: 1, y_pred: 1\n",
      "y: 0, y_pred: 0\n",
      "y: 0, y_pred: 1\n",
      "y: 1, y_pred: 1\n",
      "y: 1, y_pred: 1\n",
      "y: 0, y_pred: 0\n",
      "y: 1, y_pred: 1\n",
      "y: 0, y_pred: 0\n",
      "y: 0, y_pred: 0\n",
      "y: 0, y_pred: 0\n",
      "y: 1, y_pred: 1\n",
      "y: 0, y_pred: 1\n",
      "y: 0, y_pred: 0\n",
      "y: 1, y_pred: 1\n",
      "y: 0, y_pred: 1\n",
      "y: 1, y_pred: 1\n",
      "y: 0, y_pred: 1\n",
      "Accuracy:  0.8095238095238095\n"
     ]
    }
   ],
   "source": [
    "# now we load the weights and test it\n",
    "\n",
    "val_model = nn.SimpleMLP(60, 1, [12])\n",
    "\n",
    "# temporary fix to make last layer nonlin=False\n",
    "for i, layer in enumerate(model.layers):\n",
    "    if i == len(model.layers) - 1:\n",
    "        for n in layer.neurons:\n",
    "            n.nonlin = False\n",
    "            \n",
    "val_model.load_pkl(\"saved_models/sonar.pkl\")\n",
    "\n",
    "accuracy = 0\n",
    "for idx, x in enumerate(testset):\n",
    "    xi = x[0]\n",
    "    yi = x[1]\n",
    "    \n",
    "    y_pred = model(xi)\n",
    "    \n",
    "    if yi.data  == round(y_pred.data):\n",
    "        accuracy += 1\n",
    "    if idx %  1== 0:\n",
    "        print(\"y: {}, y_pred: {}\".format(yi.data, round(y_pred.data)))\n",
    "print(\"Accuracy: \", accuracy/len(testset))"
   ]
  }
 ],
 "metadata": {
  "kernelspec": {
   "display_name": "Python 3.7.1 64-bit ('tinygrad': conda)",
   "language": "python",
   "name": "python37164bittinygradconda67a60def8dcb4c8aa34048bd4870bafd"
  },
  "language_info": {
   "codemirror_mode": {
    "name": "ipython",
    "version": 3
   },
   "file_extension": ".py",
   "mimetype": "text/x-python",
   "name": "python",
   "nbconvert_exporter": "python",
   "pygments_lexer": "ipython3",
   "version": "3.7.1"
  }
 },
 "nbformat": 4,
 "nbformat_minor": 4
}
