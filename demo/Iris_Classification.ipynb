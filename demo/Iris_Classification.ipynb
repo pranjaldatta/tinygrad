{
 "cells": [
  {
   "cell_type": "code",
   "execution_count": 1,
   "metadata": {},
   "outputs": [
    {
     "name": "stdout",
     "output_type": "stream",
     "text": [
      "Hello World!\n"
     ]
    }
   ],
   "source": [
    "print(\"Hello World!\")"
   ]
  },
  {
   "cell_type": "code",
   "execution_count": 4,
   "metadata": {},
   "outputs": [],
   "source": [
    "from tinygrad.core import Tensor\n",
    "from tinygrad.nn import SimpleMLP\n",
    "from tinygrad.losses import MSELoss\n",
    "from tinygrad.optimizers import SimpleSGD, Adam\n",
    "\n",
    "import numpy as np\n",
    "import matplotlib.pyplot as plt\n",
    "import random\n",
    "import math\n",
    "\n",
    "from sklearn.model_selection import train_test_split"
   ]
  },
  {
   "cell_type": "code",
   "execution_count": 11,
   "metadata": {},
   "outputs": [],
   "source": [
    "path = \"IrisFlower/iris.data\"\n",
    "\n",
    "dataset = []\n",
    "with open(path) as fp:\n",
    "    file = fp.read().splitlines()\n",
    "file = [line.split(\",\") for line in file]\n",
    "file = file[:150]\n",
    "\n",
    "dataset = [[list(map(float, line[:4])), line[4]] for line in file]\n",
    "\n",
    "classes = ['Iris-setosa', 'Iris-versicolor', 'Iris-virginica']\n",
    "dataset = [[row[0], classes.index(row[1])] for row in dataset]"
   ]
  },
  {
   "cell_type": "code",
   "execution_count": 12,
   "metadata": {},
   "outputs": [],
   "source": [
    "train_ids = [random.sample(range(i,i+50), k=40) for i in [0, 50, 100]]\n",
    "train_ids = [item for sublist in train_ids for item in sublist]\n",
    "\n",
    "val_ids = [i for i in range(150) if i not in train_ids]\n",
    "\n",
    "trainset = [dataset[i] for i in train_ids]\n",
    "valset = [dataset[i] for i in val_ids]"
   ]
  },
  {
   "cell_type": "code",
   "execution_count": 13,
   "metadata": {},
   "outputs": [
    {
     "name": "stdout",
     "output_type": "stream",
     "text": [
      "Trainset size:  120\n",
      "Valset size:  30\n"
     ]
    }
   ],
   "source": [
    "print(\"Trainset size: \", len(trainset))\n",
    "print(\"Valset size: \", len(valset))"
   ]
  },
  {
   "cell_type": "code",
   "execution_count": 6,
   "metadata": {},
   "outputs": [
    {
     "name": "stdout",
     "output_type": "stream",
     "text": [
      "SimpleMLP(\n",
      "Linear(ins:4 outs:8 num_parameters:40)\n",
      "Linear(ins:8 outs:8 num_parameters:72)\n",
      "Linear(ins:8 outs:1 num_parameters:9)\n",
      ")\n",
      "Number of parameters: 121\n"
     ]
    }
   ],
   "source": [
    "# now we define the model \n",
    "# we are going to define a 4, 8, 8, 1 model \n",
    "model = SimpleMLP(4, 1, [8, 8])\n",
    "\n",
    "# temporary fix to make last layer nonlin=False\n",
    "for i, layer in enumerate(model.layers):\n",
    "    if i == len(model.layers) - 1:\n",
    "        for n in layer.neurons:\n",
    "            n.nonlin = False\n",
    "\n",
    "# print the model summary\n",
    "model.summary()\n",
    "\n",
    "#total parameters\n",
    "print(\"Number of parameters:\", len(model.parameters()))\n"
   ]
  },
  {
   "cell_type": "code",
   "execution_count": 7,
   "metadata": {},
   "outputs": [
    {
     "name": "stdout",
     "output_type": "stream",
     "text": [
      "For epoch: 0, loss: 60.130727777643884\n",
      "For epoch: 5, loss: 0.7712787610804327\n",
      "For epoch: 10, loss: 0.46219525996032396\n",
      "For epoch: 15, loss: 0.2891760491648806\n",
      "For epoch: 20, loss: 0.19942535062747227\n",
      "For epoch: 25, loss: 0.150112504230865\n",
      "For epoch: 30, loss: 0.12284523493826181\n",
      "For epoch: 35, loss: 0.10781866924615685\n",
      "For epoch: 40, loss: 0.0991380179068486\n",
      "For epoch: 45, loss: 0.09376738503437174\n",
      "For epoch: 50, loss: 0.09042586739242538\n",
      "For epoch: 55, loss: 0.08824914359129224\n",
      "For epoch: 60, loss: 0.08639046674862737\n",
      "For epoch: 65, loss: 0.08460879565532758\n",
      "For epoch: 70, loss: 0.0831564368012693\n",
      "For epoch: 75, loss: 0.08190254679564679\n",
      "For epoch: 80, loss: 0.08077636720262737\n",
      "For epoch: 85, loss: 0.07996345335703128\n",
      "For epoch: 90, loss: 0.07927067924074244\n",
      "For epoch: 95, loss: 0.07872298038383277\n",
      "For epoch: 100, loss: 0.07819942097592325\n",
      "For epoch: 105, loss: 0.07769802619523128\n",
      "For epoch: 110, loss: 0.0772171511871068\n",
      "For epoch: 115, loss: 0.07676121708701591\n",
      "For epoch: 120, loss: 0.07633767714330496\n",
      "For epoch: 125, loss: 0.07597976945963703\n",
      "For epoch: 130, loss: 0.0756449557690608\n",
      "For epoch: 135, loss: 0.0753228884178196\n",
      "For epoch: 140, loss: 0.07506717992454029\n",
      "For epoch: 145, loss: 0.07482029399265484\n",
      "For epoch: 150, loss: 0.07458212649121171\n",
      "For epoch: 155, loss: 0.07435173698706234\n",
      "For epoch: 160, loss: 0.0741283463747425\n",
      "For epoch: 165, loss: 0.07390946052213818\n",
      "For epoch: 170, loss: 0.07369540397511941\n",
      "For epoch: 175, loss: 0.07349779622346411\n",
      "For epoch: 180, loss: 0.07332755095700816\n",
      "For epoch: 185, loss: 0.07316059722025403\n",
      "For epoch: 190, loss: 0.07299669911069315\n",
      "For epoch: 195, loss: 0.0728356630672427\n",
      "For epoch: 200, loss: 0.07267750105386706\n",
      "For epoch: 205, loss: 0.0725236254337729\n",
      "For epoch: 210, loss: 0.07236867678682495\n",
      "For epoch: 215, loss: 0.07220559342773945\n",
      "For epoch: 220, loss: 0.07204614806987507\n",
      "For epoch: 225, loss: 0.07189017091686632\n",
      "For epoch: 230, loss: 0.07173182791959638\n",
      "For epoch: 235, loss: 0.07157155150609898\n",
      "For epoch: 240, loss: 0.07141360366131755\n",
      "For epoch: 245, loss: 0.07126744324220183\n",
      "For epoch: 250, loss: 0.0711245255936506\n",
      "For epoch: 255, loss: 0.07098513816269603\n",
      "For epoch: 260, loss: 0.07084790977719356\n",
      "For epoch: 265, loss: 0.07071030997364584\n",
      "For epoch: 270, loss: 0.07057442775690563\n",
      "For epoch: 275, loss: 0.07043954859262685\n",
      "For epoch: 280, loss: 0.07030688427361181\n",
      "For epoch: 285, loss: 0.0701763073033091\n",
      "For epoch: 290, loss: 0.07004736676285056\n",
      "For epoch: 295, loss: 0.06991999508568754\n",
      "For epoch: 300, loss: 0.06979413164911379\n",
      "For epoch: 305, loss: 0.06967122470178672\n",
      "For epoch: 310, loss: 0.06955036232127099\n",
      "For epoch: 315, loss: 0.06943076759432995\n",
      "For epoch: 320, loss: 0.06931240162192018\n",
      "For epoch: 325, loss: 0.06919423302445522\n",
      "For epoch: 330, loss: 0.06907681671043091\n",
      "For epoch: 335, loss: 0.06896108290279084\n",
      "For epoch: 340, loss: 0.06884583043375106\n",
      "For epoch: 345, loss: 0.06873101895938434\n",
      "For epoch: 350, loss: 0.06861766313106081\n",
      "For epoch: 355, loss: 0.06850549394898423\n",
      "For epoch: 360, loss: 0.06839483130993054\n",
      "For epoch: 365, loss: 0.0682852866283725\n",
      "For epoch: 370, loss: 0.0681769094775759\n",
      "For epoch: 375, loss: 0.06806973028272544\n",
      "For epoch: 380, loss: 0.06796371102543812\n",
      "For epoch: 385, loss: 0.06785880972007027\n",
      "For epoch: 390, loss: 0.06775496135098898\n",
      "For epoch: 395, loss: 0.06765211139742638\n",
      "For epoch: 400, loss: 0.06755021340210553\n",
      "For epoch: 405, loss: 0.06744922720525709\n",
      "For epoch: 410, loss: 0.06734911763627985\n",
      "For epoch: 415, loss: 0.06725212633746329\n",
      "For epoch: 420, loss: 0.0671567786668804\n",
      "For epoch: 425, loss: 0.06706208105820381\n",
      "For epoch: 430, loss: 0.06696801613278114\n",
      "For epoch: 435, loss: 0.0668745683021793\n",
      "For epoch: 440, loss: 0.06678172334345761\n",
      "For epoch: 445, loss: 0.06668946811083286\n",
      "For epoch: 450, loss: 0.06659779033417144\n",
      "For epoch: 455, loss: 0.06650667847398921\n",
      "For epoch: 460, loss: 0.066416121614135\n",
      "For epoch: 465, loss: 0.06632610938025627\n",
      "For epoch: 470, loss: 0.06623663187636672\n",
      "For epoch: 475, loss: 0.06614767963444311\n",
      "For epoch: 480, loss: 0.06605924357361978\n",
      "For epoch: 485, loss: 0.06597131496659786\n",
      "For epoch: 490, loss: 0.06588403014439544\n",
      "For epoch: 495, loss: 0.06579729334177932\n"
     ]
    }
   ],
   "source": [
    "epochs = 500\n",
    "lr = 0.001\n",
    "\n",
    "optimizer = SimpleSGD(model.parameters(), lr=lr)\n",
    "loss_fn = MSELoss\n",
    "\n",
    "X = [list(map(Tensor, x[0])) for x in trainset]\n",
    "Y = [Tensor(x[1]) for x in trainset]\n",
    "\n",
    "losslist = [] #to store losses\n",
    "\n",
    "for i in range(epochs):\n",
    "    \n",
    "    preds = list(map(model, X)) # we do gradient descent\n",
    "    \n",
    "    loss = loss_fn(preds, Y)\n",
    "    \n",
    "    model.zero_grad()\n",
    "    loss.backward()\n",
    "    \n",
    "    optimizer.step()\n",
    "    \n",
    "    if i%5 == 0:\n",
    "        print(\"For epoch: {}, loss: {}\".format(i, loss.data))\n",
    "        losslist.append(loss.data)"
   ]
  },
  {
   "cell_type": "code",
   "execution_count": 8,
   "metadata": {},
   "outputs": [
    {
     "data": {
      "text/plain": [
       "[<matplotlib.lines.Line2D at 0x7ff80e2ab908>]"
      ]
     },
     "execution_count": 8,
     "metadata": {},
     "output_type": "execute_result"
    },
    {
     "data": {
      "image/png": "[encoded data removed]",
      "text/plain": [
       "<Figure size 432x288 with 1 Axes>"
      ]
     },
     "metadata": {
      "needs_background": "light"
     },
     "output_type": "display_data"
    }
   ],
   "source": [
    "plt.plot(losslist, range(len(losslist)))"
   ]
  },
  {
   "cell_type": "code",
   "execution_count": 15,
   "metadata": {},
   "outputs": [],
   "source": [
    "X_val = [list(map(Tensor, x[0])) for x in valset]\n",
    "Y_val = [Tensor(x[1]) for x in valset]\n",
    "\n",
    "preds = list(map(model, X_val))"
   ]
  },
  {
   "cell_type": "code",
   "execution_count": 10,
   "metadata": {},
   "outputs": [
    {
     "name": "stdout",
     "output_type": "stream",
     "text": [
      "val loss:  0.047896011766359416\n"
     ]
    }
   ],
   "source": [
    "val_loss = loss_fn(preds, Y_val)\n",
    "print(\"val loss: \", val_loss.data)"
   ]
  },
  {
   "cell_type": "code",
   "execution_count": 11,
   "metadata": {},
   "outputs": [
    {
     "name": "stdout",
     "output_type": "stream",
     "text": [
      "idx: 0, predicted: 0, true value: 0\n",
      "idx: 2, predicted: 0, true value: 0\n",
      "idx: 4, predicted: 0, true value: 0\n",
      "idx: 6, predicted: 0, true value: 0\n",
      "idx: 8, predicted: 0, true value: 0\n",
      "idx: 10, predicted: 1, true value: 1\n",
      "idx: 12, predicted: 1, true value: 1\n",
      "idx: 14, predicted: 1, true value: 1\n",
      "idx: 16, predicted: 2, true value: 1\n",
      "idx: 18, predicted: 1, true value: 1\n",
      "idx: 20, predicted: 2, true value: 2\n",
      "idx: 22, predicted: 2, true value: 2\n",
      "idx: 24, predicted: 2, true value: 2\n",
      "idx: 26, predicted: 2, true value: 2\n",
      "idx: 28, predicted: 2, true value: 2\n",
      "Validation accuracy: 96.66666666666667%\n"
     ]
    }
   ],
   "source": [
    "accuracy = 0\n",
    "idx = 0\n",
    "for pi, yi in zip(preds, Y_val):\n",
    "    if idx % 2 == 0:\n",
    "        print(\"idx: {}, predicted: {}, true value: {}\".format(idx, round((pi.data)), yi.data))\n",
    "    if round(pi.data) == yi.data:\n",
    "        accuracy += 1\n",
    "    idx += 1\n",
    "print(\"Validation accuracy: {}%\".format((accuracy/len(Y_val)) * 100))"
   ]
  },
  {
   "cell_type": "code",
   "execution_count": 12,
   "metadata": {},
   "outputs": [],
   "source": [
    "# now we save the model \n",
    "model.save(\"saved_models/model_SGD_96.pkl\")"
   ]
  },
  {
   "cell_type": "code",
   "execution_count": 16,
   "metadata": {},
   "outputs": [
    {
     "name": "stdout",
     "output_type": "stream",
     "text": [
      "idx: 0, predicted: 0, true value: 0\n",
      "idx: 3, predicted: 0, true value: 0\n",
      "idx: 6, predicted: 0, true value: 0\n",
      "idx: 9, predicted: 0, true value: 0\n",
      "idx: 12, predicted: 1, true value: 1\n",
      "idx: 15, predicted: 1, true value: 1\n",
      "idx: 18, predicted: 1, true value: 1\n",
      "idx: 21, predicted: 2, true value: 2\n",
      "idx: 24, predicted: 2, true value: 2\n",
      "idx: 27, predicted: 2, true value: 2\n",
      "Validation accuracy: 96.66666666666667%\n"
     ]
    }
   ],
   "source": [
    "# now we load the weigths and check \n",
    "# we instantiate a new model\n",
    "val_model = SimpleMLP(4, 1, [8, 8])\n",
    "val_model.load_pkl(\"saved_models/model_SGD_96.pkl\")\n",
    "\n",
    "preds = list(map(val_model, X_val))\n",
    "\n",
    "accuracy = 0\n",
    "idx = 0\n",
    "for pi, yi in zip(preds, Y_val):\n",
    "    if idx % 3 == 0:\n",
    "        print(\"idx: {}, predicted: {}, true value: {}\".format(idx, round((pi.data)), yi.data))\n",
    "    if round(pi.data) == yi.data:\n",
    "        accuracy += 1\n",
    "    idx += 1\n",
    "print(\"Validation accuracy: {}%\".format((accuracy/len(Y_val)) * 100))\n"
   ]
  },
  {
   "cell_type": "code",
   "execution_count": null,
   "metadata": {},
   "outputs": [],
   "source": []
  }
 ],
 "metadata": {
  "kernelspec": {
   "display_name": "Python 3.7.1 64-bit ('tinygrad': conda)",
   "language": "python",
   "name": "python37164bittinygradconda67a60def8dcb4c8aa34048bd4870bafd"
  },
  "language_info": {
   "codemirror_mode": {
    "name": "ipython",
    "version": 3
   },
   "file_extension": ".py",
   "mimetype": "text/x-python",
   "name": "python",
   "nbconvert_exporter": "python",
   "pygments_lexer": "ipython3",
   "version": "3.7.1"
  }
 },
 "nbformat": 4,
 "nbformat_minor": 4
}
